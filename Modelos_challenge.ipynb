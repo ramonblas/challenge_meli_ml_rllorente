{
 "cells": [
  {
   "cell_type": "markdown",
   "metadata": {},
   "source": [
    "# Modelos\n",
    "## Nombre: Ramón Llorente"
   ]
  },
  {
   "cell_type": "markdown",
   "metadata": {},
   "source": [
    "## Introducción\n",
    "### Luego de haber buceado un poco en los datos en el proceso exploratorio, nos abocamos a intentar entrenar un modelo que pueda predecir la variable *sold_quantity* . \n",
    "### Para comenzar, establecemos los criterios principales para este itinerario:\n",
    "* Entrenaremos un modelo linear como _baseline_ desde donde ir creciendo\n",
    "* Entrenaremos un modelo no lineal, _\"shallow\"_.\n",
    "* Evaluaremos las métricas MSE y R2, y sacaremos nuestras conclusiones"
   ]
  },
  {
   "cell_type": "markdown",
   "metadata": {},
   "source": [
    "## Hipótesis"
   ]
  },
  {
   "cell_type": "markdown",
   "metadata": {},
   "source": [
    "#### Si bien se puede ver en el gráfico de correlaciones mas abajo, que no hay relación lineal entre la variable a predecir y las predictoras, creemos que con una poda de variables con colinearidad o con una correspondiente regularización, mas transformación de variables numéricas, podremos ver algun resultado.\n",
    "#### Por otro la variable objetivo, al tratarse de cuentas, como hemos visto en el EDA, con características de la familia de Poisson, podria modelarse con dicha distribución dentro del _framework_ de regresione lineal generalizada (GLM).\n",
    "\n",
    "#### Por otro lado, en cuanto al model no-lineal, creemos que un ensamble de árboles de desición podria performar bien en el contexto de un dataset con muchas variables, en datos tabulares, con una considerable buena performance desde el punto de vista métrico.\n",
    "\n",
    "#### En cuanto a las variables, y por lo que hemos visto en el proceso exploratorio, creemos que seran de gran importancia las variables predictoras _health_ , _price_ , _diff_stop_start_time_ . La primera porque parece condensar y resumir informacion presente en muchas otras variables, sobre puntaje y performance del vendedor, la segunda porque creemos que el precio deberia estar relacionado con la cantidad de ítems a vender: si es un ítem caro no deberia venderse facilmente. Y por ultimo la diferencia de dias entre fecha de comienzo y fecha de finalización del ítem, porque creemos que hay un factor temporal en el tiempo que ha pasado desde su publicación."
   ]
  },
  {
   "cell_type": "markdown",
   "metadata": {},
   "source": [
    "## Metodología y Herramientas\n",
    "### Para este trabajo adoptaremos el algoritmo de regresión lineal generalizada de la librería Stats Models, para el modelo base, y luego para el siguiente utilizaremos una variante de Gradient Boosting Trees, que utiliza el gradiente natural para ajustar la secuencia de árboles, ya que es mas efectivo, porque es paramétrico: esto quiere decir que ajusta la probabilidad condicional P(Y | Datos), asignando una familia de distribuciones. \n",
    "\n",
    "### Para estimar el error del test, haremos un cros validation de 8 folios, y tambien dejaremos un conjunto \"Held Out\" para observar la performance sobre un conjunto de datos \"guardado\". \n"
   ]
  },
  {
   "cell_type": "code",
   "execution_count": 1,
   "metadata": {},
   "outputs": [
    {
     "name": "stderr",
     "output_type": "stream",
     "text": [
      "In /home/ramon/.local/lib/python3.6/site-packages/matplotlib/mpl-data/stylelib/_classic_test.mplstyle: \n",
      "The text.latex.preview rcparam was deprecated in Matplotlib 3.3 and will be removed two minor releases later.\n",
      "In /home/ramon/.local/lib/python3.6/site-packages/matplotlib/mpl-data/stylelib/_classic_test.mplstyle: \n",
      "The mathtext.fallback_to_cm rcparam was deprecated in Matplotlib 3.3 and will be removed two minor releases later.\n",
      "In /home/ramon/.local/lib/python3.6/site-packages/matplotlib/mpl-data/stylelib/_classic_test.mplstyle: Support for setting the 'mathtext.fallback_to_cm' rcParam is deprecated since 3.3 and will be removed two minor releases later; use 'mathtext.fallback : 'cm' instead.\n",
      "In /home/ramon/.local/lib/python3.6/site-packages/matplotlib/mpl-data/stylelib/_classic_test.mplstyle: \n",
      "The validate_bool_maybe_none function was deprecated in Matplotlib 3.3 and will be removed two minor releases later.\n",
      "In /home/ramon/.local/lib/python3.6/site-packages/matplotlib/mpl-data/stylelib/_classic_test.mplstyle: \n",
      "The savefig.jpeg_quality rcparam was deprecated in Matplotlib 3.3 and will be removed two minor releases later.\n",
      "In /home/ramon/.local/lib/python3.6/site-packages/matplotlib/mpl-data/stylelib/_classic_test.mplstyle: \n",
      "The keymap.all_axes rcparam was deprecated in Matplotlib 3.3 and will be removed two minor releases later.\n",
      "In /home/ramon/.local/lib/python3.6/site-packages/matplotlib/mpl-data/stylelib/_classic_test.mplstyle: \n",
      "The animation.avconv_path rcparam was deprecated in Matplotlib 3.3 and will be removed two minor releases later.\n",
      "In /home/ramon/.local/lib/python3.6/site-packages/matplotlib/mpl-data/stylelib/_classic_test.mplstyle: \n",
      "The animation.avconv_args rcparam was deprecated in Matplotlib 3.3 and will be removed two minor releases later.\n"
     ]
    }
   ],
   "source": [
    "\n",
    "import random\n",
    "\n",
    "import statsmodels.api as sm\n",
    "\n",
    "import pandas as pd\n",
    "import numpy as np\n",
    "\n",
    "from sklearn.metrics import r2_score, mean_squared_error\n",
    "from sklearn.model_selection import KFold\n",
    "from sklearn.model_selection import train_test_split\n",
    "\n",
    "import seaborn as sns\n",
    "import matplotlib.pyplot as plt"
   ]
  },
  {
   "cell_type": "code",
   "execution_count": 2,
   "metadata": {},
   "outputs": [],
   "source": [
    "random.seed(3890)"
   ]
  },
  {
   "cell_type": "code",
   "execution_count": 3,
   "metadata": {
    "scrolled": false
   },
   "outputs": [
    {
     "data": {
      "text/html": [
       "<div>\n",
       "<style scoped>\n",
       "    .dataframe tbody tr th:only-of-type {\n",
       "        vertical-align: middle;\n",
       "    }\n",
       "\n",
       "    .dataframe tbody tr th {\n",
       "        vertical-align: top;\n",
       "    }\n",
       "\n",
       "    .dataframe thead th {\n",
       "        text-align: right;\n",
       "    }\n",
       "</style>\n",
       "<table border=\"1\" class=\"dataframe\">\n",
       "  <thead>\n",
       "    <tr style=\"text-align: right;\">\n",
       "      <th></th>\n",
       "      <th>seller_ratings_negative</th>\n",
       "      <th>seller_ratings_neutral</th>\n",
       "      <th>seller_ratings_positive</th>\n",
       "      <th>seller_transactions_total</th>\n",
       "      <th>seller_sales_completed</th>\n",
       "      <th>seller_claims_value</th>\n",
       "      <th>seller_claims_rate</th>\n",
       "      <th>seller_cancellations_rate</th>\n",
       "      <th>seller_cancellations_value</th>\n",
       "      <th>seller_delayed_handling_value</th>\n",
       "      <th>...</th>\n",
       "      <th>shipping_mode_me2</th>\n",
       "      <th>shipping_mode_not_specified</th>\n",
       "      <th>start_time_month</th>\n",
       "      <th>start_time_year</th>\n",
       "      <th>stop_time_month</th>\n",
       "      <th>stop_time_year</th>\n",
       "      <th>seller_registration_date_month</th>\n",
       "      <th>seller_registration_date_year</th>\n",
       "      <th>diff_stop_start_time</th>\n",
       "      <th>lof_negative_label</th>\n",
       "    </tr>\n",
       "  </thead>\n",
       "  <tbody>\n",
       "    <tr>\n",
       "      <th>0</th>\n",
       "      <td>0.0</td>\n",
       "      <td>0.0</td>\n",
       "      <td>0.0</td>\n",
       "      <td>12283.0</td>\n",
       "      <td>1965.0</td>\n",
       "      <td>37.0</td>\n",
       "      <td>0.02</td>\n",
       "      <td>0.0</td>\n",
       "      <td>1.0</td>\n",
       "      <td>36.0</td>\n",
       "      <td>...</td>\n",
       "      <td>0.0</td>\n",
       "      <td>1.0</td>\n",
       "      <td>8.0</td>\n",
       "      <td>2020.0</td>\n",
       "      <td>7.0</td>\n",
       "      <td>2040.0</td>\n",
       "      <td>10.0</td>\n",
       "      <td>2016.0</td>\n",
       "      <td>7299.52</td>\n",
       "      <td>-1.162979</td>\n",
       "    </tr>\n",
       "    <tr>\n",
       "      <th>1</th>\n",
       "      <td>0.0</td>\n",
       "      <td>0.0</td>\n",
       "      <td>0.0</td>\n",
       "      <td>12283.0</td>\n",
       "      <td>1965.0</td>\n",
       "      <td>37.0</td>\n",
       "      <td>0.02</td>\n",
       "      <td>0.0</td>\n",
       "      <td>1.0</td>\n",
       "      <td>36.0</td>\n",
       "      <td>...</td>\n",
       "      <td>1.0</td>\n",
       "      <td>0.0</td>\n",
       "      <td>10.0</td>\n",
       "      <td>2020.0</td>\n",
       "      <td>10.0</td>\n",
       "      <td>2040.0</td>\n",
       "      <td>10.0</td>\n",
       "      <td>2016.0</td>\n",
       "      <td>7299.41</td>\n",
       "      <td>-1.040410</td>\n",
       "    </tr>\n",
       "    <tr>\n",
       "      <th>2</th>\n",
       "      <td>0.0</td>\n",
       "      <td>0.0</td>\n",
       "      <td>0.0</td>\n",
       "      <td>367677.0</td>\n",
       "      <td>60652.0</td>\n",
       "      <td>422.0</td>\n",
       "      <td>0.01</td>\n",
       "      <td>0.0</td>\n",
       "      <td>59.0</td>\n",
       "      <td>0.0</td>\n",
       "      <td>...</td>\n",
       "      <td>1.0</td>\n",
       "      <td>0.0</td>\n",
       "      <td>9.0</td>\n",
       "      <td>2020.0</td>\n",
       "      <td>9.0</td>\n",
       "      <td>2040.0</td>\n",
       "      <td>3.0</td>\n",
       "      <td>2019.0</td>\n",
       "      <td>7299.76</td>\n",
       "      <td>-5.715320</td>\n",
       "    </tr>\n",
       "    <tr>\n",
       "      <th>3</th>\n",
       "      <td>0.0</td>\n",
       "      <td>0.0</td>\n",
       "      <td>0.0</td>\n",
       "      <td>271928.0</td>\n",
       "      <td>88340.0</td>\n",
       "      <td>606.0</td>\n",
       "      <td>0.01</td>\n",
       "      <td>0.0</td>\n",
       "      <td>0.0</td>\n",
       "      <td>0.0</td>\n",
       "      <td>...</td>\n",
       "      <td>1.0</td>\n",
       "      <td>0.0</td>\n",
       "      <td>10.0</td>\n",
       "      <td>2020.0</td>\n",
       "      <td>11.0</td>\n",
       "      <td>2040.0</td>\n",
       "      <td>7.0</td>\n",
       "      <td>2020.0</td>\n",
       "      <td>7335.96</td>\n",
       "      <td>-1.012877</td>\n",
       "    </tr>\n",
       "    <tr>\n",
       "      <th>4</th>\n",
       "      <td>0.0</td>\n",
       "      <td>0.0</td>\n",
       "      <td>0.0</td>\n",
       "      <td>271928.0</td>\n",
       "      <td>88340.0</td>\n",
       "      <td>606.0</td>\n",
       "      <td>0.01</td>\n",
       "      <td>0.0</td>\n",
       "      <td>0.0</td>\n",
       "      <td>0.0</td>\n",
       "      <td>...</td>\n",
       "      <td>1.0</td>\n",
       "      <td>0.0</td>\n",
       "      <td>10.0</td>\n",
       "      <td>2020.0</td>\n",
       "      <td>11.0</td>\n",
       "      <td>2040.0</td>\n",
       "      <td>7.0</td>\n",
       "      <td>2020.0</td>\n",
       "      <td>7336.36</td>\n",
       "      <td>-1.374617</td>\n",
       "    </tr>\n",
       "  </tbody>\n",
       "</table>\n",
       "<p>5 rows × 49 columns</p>\n",
       "</div>"
      ],
      "text/plain": [
       "   seller_ratings_negative  seller_ratings_neutral  seller_ratings_positive  \\\n",
       "0                      0.0                     0.0                      0.0   \n",
       "1                      0.0                     0.0                      0.0   \n",
       "2                      0.0                     0.0                      0.0   \n",
       "3                      0.0                     0.0                      0.0   \n",
       "4                      0.0                     0.0                      0.0   \n",
       "\n",
       "   seller_transactions_total  seller_sales_completed  seller_claims_value  \\\n",
       "0                    12283.0                  1965.0                 37.0   \n",
       "1                    12283.0                  1965.0                 37.0   \n",
       "2                   367677.0                 60652.0                422.0   \n",
       "3                   271928.0                 88340.0                606.0   \n",
       "4                   271928.0                 88340.0                606.0   \n",
       "\n",
       "   seller_claims_rate  seller_cancellations_rate  seller_cancellations_value  \\\n",
       "0                0.02                        0.0                         1.0   \n",
       "1                0.02                        0.0                         1.0   \n",
       "2                0.01                        0.0                        59.0   \n",
       "3                0.01                        0.0                         0.0   \n",
       "4                0.01                        0.0                         0.0   \n",
       "\n",
       "   seller_delayed_handling_value  ...  shipping_mode_me2  \\\n",
       "0                           36.0  ...                0.0   \n",
       "1                           36.0  ...                1.0   \n",
       "2                            0.0  ...                1.0   \n",
       "3                            0.0  ...                1.0   \n",
       "4                            0.0  ...                1.0   \n",
       "\n",
       "   shipping_mode_not_specified  start_time_month  start_time_year  \\\n",
       "0                          1.0               8.0           2020.0   \n",
       "1                          0.0              10.0           2020.0   \n",
       "2                          0.0               9.0           2020.0   \n",
       "3                          0.0              10.0           2020.0   \n",
       "4                          0.0              10.0           2020.0   \n",
       "\n",
       "   stop_time_month  stop_time_year  seller_registration_date_month  \\\n",
       "0              7.0          2040.0                            10.0   \n",
       "1             10.0          2040.0                            10.0   \n",
       "2              9.0          2040.0                             3.0   \n",
       "3             11.0          2040.0                             7.0   \n",
       "4             11.0          2040.0                             7.0   \n",
       "\n",
       "   seller_registration_date_year  diff_stop_start_time  lof_negative_label  \n",
       "0                         2016.0               7299.52           -1.162979  \n",
       "1                         2016.0               7299.41           -1.040410  \n",
       "2                         2019.0               7299.76           -5.715320  \n",
       "3                         2020.0               7335.96           -1.012877  \n",
       "4                         2020.0               7336.36           -1.374617  \n",
       "\n",
       "[5 rows x 49 columns]"
      ]
     },
     "execution_count": 3,
     "metadata": {},
     "output_type": "execute_result"
    }
   ],
   "source": [
    "df = pd.read_pickle('master4models_prepro.df')\n",
    "df.head()"
   ]
  },
  {
   "cell_type": "code",
   "execution_count": 4,
   "metadata": {},
   "outputs": [
    {
     "data": {
      "text/plain": [
       "(27843, 49)"
      ]
     },
     "execution_count": 4,
     "metadata": {},
     "output_type": "execute_result"
    }
   ],
   "source": [
    "df.shape"
   ]
  },
  {
   "cell_type": "code",
   "execution_count": 5,
   "metadata": {
    "scrolled": true
   },
   "outputs": [
    {
     "name": "stdout",
     "output_type": "stream",
     "text": [
      "<class 'pandas.core.frame.DataFrame'>\n",
      "Int64Index: 27843 entries, 0 to 28058\n",
      "Data columns (total 49 columns):\n",
      " #   Column                          Non-Null Count  Dtype  \n",
      "---  ------                          --------------  -----  \n",
      " 0   seller_ratings_negative         27761 non-null  float64\n",
      " 1   seller_ratings_neutral          27761 non-null  float64\n",
      " 2   seller_ratings_positive         27761 non-null  float64\n",
      " 3   seller_transactions_total       27761 non-null  float64\n",
      " 4   seller_sales_completed          27760 non-null  float64\n",
      " 5   seller_claims_value             27759 non-null  float64\n",
      " 6   seller_claims_rate              27760 non-null  float64\n",
      " 7   seller_cancellations_rate       27759 non-null  float64\n",
      " 8   seller_cancellations_value      27759 non-null  float64\n",
      " 9   seller_delayed_handling_value   27759 non-null  float64\n",
      " 10  seller_delayed_handling_rate    27760 non-null  float64\n",
      " 11  condition                       27843 non-null  float64\n",
      " 12  installments_quantity           26740 non-null  float64\n",
      " 13  base_price                      27843 non-null  float64\n",
      " 14  initial_quantity                27843 non-null  float64\n",
      " 15  health                          26532 non-null  float64\n",
      " 16  price                           27843 non-null  float64\n",
      " 17  accepts_mercadopago             27843 non-null  float64\n",
      " 18  original_price                  2350 non-null   float64\n",
      " 19  shipping_free_shipping          27843 non-null  float64\n",
      " 20  n_attributes                    27843 non-null  float64\n",
      " 21  item_visits                     27843 non-null  float64\n",
      " 22  user_visits                     27843 non-null  float64\n",
      " 23  sold_quantity                   27843 non-null  float64\n",
      " 24  available_quantity              27843 non-null  float64\n",
      " 25  domain_encoded                  27843 non-null  float64\n",
      " 26  domain_cluster                  27843 non-null  float64\n",
      " 27  power_seller_status_enc         21542 non-null  float64\n",
      " 28  buying_mode_now                 27843 non-null  float64\n",
      " 29  listing_type_enc                27843 non-null  float64\n",
      " 30  accepts_mergadopago             27843 non-null  float64\n",
      " 31  prov_cluster                    27843 non-null  float64\n",
      " 32  seller_reputation_level_1       27843 non-null  float64\n",
      " 33  seller_reputation_level_2       27843 non-null  float64\n",
      " 34  seller_reputation_level_3       27843 non-null  float64\n",
      " 35  seller_reputation_level_4       27843 non-null  float64\n",
      " 36  seller_reputation_level_5       27843 non-null  float64\n",
      " 37  shipping_mode_custom            27843 non-null  float64\n",
      " 38  shipping_mode_me1               27843 non-null  float64\n",
      " 39  shipping_mode_me2               27843 non-null  float64\n",
      " 40  shipping_mode_not_specified     27843 non-null  float64\n",
      " 41  start_time_month                27843 non-null  float64\n",
      " 42  start_time_year                 27843 non-null  float64\n",
      " 43  stop_time_month                 27843 non-null  float64\n",
      " 44  stop_time_year                  27843 non-null  float64\n",
      " 45  seller_registration_date_month  27761 non-null  float64\n",
      " 46  seller_registration_date_year   27761 non-null  float64\n",
      " 47  diff_stop_start_time            27843 non-null  float64\n",
      " 48  lof_negative_label              27843 non-null  float64\n",
      "dtypes: float64(49)\n",
      "memory usage: 10.6 MB\n"
     ]
    }
   ],
   "source": [
    "df.info()"
   ]
  },
  {
   "cell_type": "markdown",
   "metadata": {},
   "source": [
    "### Separamos los datos que usaremos en los models"
   ]
  },
  {
   "cell_type": "code",
   "execution_count": 6,
   "metadata": {},
   "outputs": [],
   "source": [
    "X_train, X_test, y_train, y_test = train_test_split(\n",
    "    df.fillna(0).drop('sold_quantity', axis=1).values, \n",
    "    df.sold_quantity.values, \n",
    "    test_size=0.33, \n",
    "    random_state=24)"
   ]
  },
  {
   "cell_type": "markdown",
   "metadata": {},
   "source": [
    "## Modelo 1: Regresión GML Poisson"
   ]
  },
  {
   "cell_type": "markdown",
   "metadata": {},
   "source": [
    "#### Veamos de modo interpretativo los coeficientes y error std del modelo lineal"
   ]
  },
  {
   "cell_type": "code",
   "execution_count": 77,
   "metadata": {
    "scrolled": true
   },
   "outputs": [
    {
     "name": "stdout",
     "output_type": "stream",
     "text": [
      "                 Generalized Linear Model Regression Results                  \n",
      "==============================================================================\n",
      "Dep. Variable:                      y   No. Observations:                18654\n",
      "Model:                            GLM   Df Residuals:                    18609\n",
      "Model Family:                 Poisson   Df Model:                           44\n",
      "Link Function:                    log   Scale:                          1.0000\n",
      "Method:                          IRLS   Log-Likelihood:            -2.0482e+17\n",
      "Date:                Fri, 12 Mar 2021   Deviance:                   4.0964e+17\n",
      "Time:                        16:18:05   Pearson chi2:                 2.05e+17\n",
      "No. Iterations:                   100                                         \n",
      "Covariance Type:            nonrobust                                         \n",
      "==============================================================================\n",
      "                 coef    std err          z      P>|z|      [0.025      0.975]\n",
      "------------------------------------------------------------------------------\n",
      "x1                  0          0        nan        nan           0           0\n",
      "x2         -1.237e-10   6.11e-19  -2.02e+08      0.000   -1.24e-10   -1.24e-10\n",
      "x3         -7.413e-08   4.85e-17  -1.53e+09      0.000   -7.41e-08   -7.41e-08\n",
      "x4         -1.266e-06   5.18e-15  -2.44e+08      0.000   -1.27e-06   -1.27e-06\n",
      "x5         -9.144e-07   1.78e-15  -5.14e+08      0.000   -9.14e-07   -9.14e-07\n",
      "x6          -6.41e-10   1.15e-17  -5.56e+07      0.000   -6.41e-10   -6.41e-10\n",
      "x7         -1.109e-14   1.87e-22  -5.92e+07      0.000   -1.11e-14   -1.11e-14\n",
      "x8          3.264e-16   2.16e-24   1.51e+08      0.000    3.26e-16    3.26e-16\n",
      "x9         -7.422e-08   4.85e-17  -1.53e+09      0.000   -7.42e-08   -7.42e-08\n",
      "x10        -2.762e-12   3.21e-21  -8.61e+08      0.000   -2.76e-12   -2.76e-12\n",
      "x11         -6.42e-24    5.3e-32  -1.21e+08      0.000   -6.42e-24   -6.42e-24\n",
      "x12         1.208e-10    9.2e-19   1.31e+08      0.000    1.21e-10    1.21e-10\n",
      "x13        -2.834e-11    8.6e-20   -3.3e+08      0.000   -2.83e-11   -2.83e-11\n",
      "x14        -7.036e-06   1.05e-16  -6.72e+10      0.000   -7.04e-06   -7.04e-06\n",
      "x15         2.636e-08   4.51e-17   5.85e+08      0.000    2.64e-08    2.64e-08\n",
      "x16          -1.3e-08   8.52e-18  -1.53e+09      0.000    -1.3e-08    -1.3e-08\n",
      "x17        -7.036e-06   1.05e-16  -6.72e+10      0.000   -7.04e-06   -7.04e-06\n",
      "const               0          0        nan        nan           0           0\n",
      "x18        -3.597e-09   6.08e-17  -5.91e+07      0.000    -3.6e-09    -3.6e-09\n",
      "x19        -7.422e-08   4.85e-17  -1.53e+09      0.000   -7.42e-08   -7.42e-08\n",
      "x20         2.801e-06   1.83e-15   1.53e+09      0.000     2.8e-06     2.8e-06\n",
      "x21        -1.562e-08   2.64e-16  -5.92e+07      0.000   -1.56e-08   -1.56e-08\n",
      "x22         5.128e-06   2.52e-13   2.04e+07      0.000    5.13e-06    5.13e-06\n",
      "x23         2.835e-08   2.02e-17    1.4e+09      0.000    2.83e-08    2.83e-08\n",
      "x24         2.396e-06   1.57e-15   1.53e+09      0.000     2.4e-06     2.4e-06\n",
      "x25        -4.535e-08   2.97e-17  -1.53e+09      0.000   -4.53e-08   -4.53e-08\n",
      "x26        -1.109e-12   1.87e-20  -5.92e+07      0.000   -1.11e-12   -1.11e-12\n",
      "x27        -7.422e-08   4.85e-17  -1.53e+09      0.000   -7.42e-08   -7.42e-08\n",
      "x28        -4.535e-08   2.97e-17  -1.53e+09      0.000   -4.53e-08   -4.53e-08\n",
      "x29                 0          0        nan        nan           0           0\n",
      "x30         1.318e-07   8.62e-17   1.53e+09      0.000    1.32e-07    1.32e-07\n",
      "x31        -2.201e-24   3.11e-33  -7.07e+08      0.000    -2.2e-24    -2.2e-24\n",
      "x32        -9.711e-25   7.88e-34  -1.23e+09      0.000   -9.71e-25   -9.71e-25\n",
      "x33        -3.985e-24   2.19e-32  -1.82e+08      0.000   -3.99e-24   -3.99e-24\n",
      "x34         1.674e-25    7.3e-33   2.29e+07      0.000    1.67e-25    1.67e-25\n",
      "x35        -7.422e-08   4.85e-17  -1.53e+09      0.000   -7.42e-08   -7.42e-08\n",
      "x36        -3.282e-20   4.91e-28  -6.69e+07      0.000   -3.28e-20   -3.28e-20\n",
      "x37        -2.288e-25   1.37e-33  -1.67e+08      0.000   -2.29e-25   -2.29e-25\n",
      "x38        -7.422e-08   4.85e-17  -1.53e+09      0.000   -7.42e-08   -7.42e-08\n",
      "x39         1.031e-07   6.74e-17   1.53e+09      0.000    1.03e-07    1.03e-07\n",
      "x40         1.321e-07   8.64e-17   1.53e+09      0.000    1.32e-07    1.32e-07\n",
      "x41         5.835e-05   3.82e-14   1.53e+09      0.000    5.83e-05    5.83e-05\n",
      "x42        -4.783e-07   3.13e-16  -1.53e+09      0.000   -4.78e-07   -4.78e-07\n",
      "x43         5.694e-05   3.72e-14   1.53e+09      0.000    5.69e-05    5.69e-05\n",
      "x44         6.421e-07    4.2e-16   1.53e+09      0.000    6.42e-07    6.42e-07\n",
      "x45         5.821e-05   3.81e-14   1.53e+09      0.000    5.82e-05    5.82e-05\n",
      "x46           -0.0005    3.5e-13  -1.53e+09      0.000      -0.001      -0.001\n",
      "x47         6.293e-08   4.11e-17   1.53e+09      0.000    6.29e-08    6.29e-08\n",
      "==============================================================================\n",
      "['seller_ratings_negative', 'seller_ratings_neutral', 'seller_ratings_positive', 'seller_transactions_total', 'seller_sales_completed', 'seller_claims_value', 'seller_claims_rate', 'seller_cancellations_rate', 'seller_cancellations_value', 'seller_delayed_handling_value', 'seller_delayed_handling_rate', 'condition', 'installments_quantity', 'base_price', 'initial_quantity', 'health', 'price', 'accepts_mercadopago', 'original_price', 'shipping_free_shipping', 'n_attributes', 'item_visits', 'user_visits', 'sold_quantity', 'available_quantity', 'domain_encoded', 'domain_cluster', 'power_seller_status_enc', 'buying_mode_now', 'listing_type_enc', 'accepts_mergadopago', 'prov_cluster', 'seller_reputation_level_1', 'seller_reputation_level_2', 'seller_reputation_level_3', 'seller_reputation_level_4', 'seller_reputation_level_5', 'shipping_mode_custom', 'shipping_mode_me1', 'shipping_mode_me2', 'shipping_mode_not_specified', 'start_time_month', 'start_time_year', 'stop_time_month', 'stop_time_year', 'seller_registration_date_month', 'seller_registration_date_year', 'diff_stop_start_time', 'lof_negative_label']\n"
     ]
    },
    {
     "data": {
      "text/plain": [
       "(None, None)"
      ]
     },
     "execution_count": 77,
     "metadata": {},
     "output_type": "execute_result"
    }
   ],
   "source": [
    "po_results = sm.GLM(y_train, X_train, family=sm.families.Poisson()).fit()\n",
    "print(po_results.summary()), print(df.columns.tolist())"
   ]
  },
  {
   "cell_type": "markdown",
   "metadata": {},
   "source": [
    "### Se puede ver a simple vista que el modelo no se entiende con este dataset tal como esta, por los coeficientes tan bajos , lo mismo que los errores estandar."
   ]
  },
  {
   "cell_type": "markdown",
   "metadata": {},
   "source": [
    "### Intentaré quitar y transformar algunas"
   ]
  },
  {
   "cell_type": "code",
   "execution_count": 54,
   "metadata": {},
   "outputs": [
    {
     "name": "stderr",
     "output_type": "stream",
     "text": [
      "/home/ramon/.local/lib/python3.6/site-packages/ipykernel_launcher.py:7: SettingWithCopyWarning: \n",
      "A value is trying to be set on a copy of a slice from a DataFrame.\n",
      "Try using .loc[row_indexer,col_indexer] = value instead\n",
      "\n",
      "See the caveats in the documentation: https://pandas.pydata.org/pandas-docs/stable/user_guide/indexing.html#returning-a-view-versus-a-copy\n",
      "  import sys\n",
      "/home/ramon/.local/lib/python3.6/site-packages/ipykernel_launcher.py:9: SettingWithCopyWarning: \n",
      "A value is trying to be set on a copy of a slice from a DataFrame.\n",
      "Try using .loc[row_indexer,col_indexer] = value instead\n",
      "\n",
      "See the caveats in the documentation: https://pandas.pydata.org/pandas-docs/stable/user_guide/indexing.html#returning-a-view-versus-a-copy\n",
      "  if __name__ == '__main__':\n"
     ]
    }
   ],
   "source": [
    "col_rl = ['health', 'price', 'sold_quantity', \n",
    "          'user_visits', 'domain_cluster' ,'seller_reputation_level_5',\n",
    "          'diff_stop_start_time', 'power_seller_status_enc', 'buying_mode_now']\n",
    "numeric_cl = ['health','price','user_visits', 'diff_stop_start_time']\n",
    "df_rl = df[col_rl]\n",
    "for cn in numeric_cl:\n",
    "    df_rl[cn] = df_rl[cn] - df_rl[cn].mean() / df_rl[cn].std()\n",
    "\n",
    "df_rl['health_price_inter'] = df_rl.price * df_rl.health    \n",
    "\n",
    "X_train_rl, X_test_rl, y_train_rl, y_test_rl = train_test_split(\n",
    "    df_rl.fillna(0).drop('sold_quantity', axis=1).values, \n",
    "    df_rl.sold_quantity.values, \n",
    "    test_size=0.33, \n",
    "    random_state=24)"
   ]
  },
  {
   "cell_type": "code",
   "execution_count": 55,
   "metadata": {
    "scrolled": true
   },
   "outputs": [
    {
     "name": "stdout",
     "output_type": "stream",
     "text": [
      "                 Generalized Linear Model Regression Results                  \n",
      "==============================================================================\n",
      "Dep. Variable:                      y   No. Observations:                18654\n",
      "Model:                            GLM   Df Residuals:                    18645\n",
      "Model Family:                 Poisson   Df Model:                            8\n",
      "Link Function:                    log   Scale:                          1.0000\n",
      "Method:                          IRLS   Log-Likelihood:            -1.1415e+06\n",
      "Date:                Fri, 12 Mar 2021   Deviance:                   2.2285e+06\n",
      "Time:                        17:56:57   Pearson chi2:                 1.77e+07\n",
      "No. Iterations:                   100                                         \n",
      "Covariance Type:            nonrobust                                         \n",
      "==============================================================================\n",
      "                 coef    std err          z      P>|z|      [0.025      0.975]\n",
      "------------------------------------------------------------------------------\n",
      "x1             0.1487      0.001    174.900      0.000       0.147       0.150\n",
      "x2         -2.379e-05   1.83e-07   -130.302      0.000   -2.41e-05   -2.34e-05\n",
      "x3          3.143e-07   7.02e-10    447.754      0.000    3.13e-07    3.16e-07\n",
      "x4            -0.1734      0.001   -138.514      0.000      -0.176      -0.171\n",
      "x5             1.7274      0.009    197.920      0.000       1.710       1.745\n",
      "x6             0.0008   3.82e-06    211.703      0.000       0.001       0.001\n",
      "x7            -0.1456      0.002    -63.784      0.000      -0.150      -0.141\n",
      "x8            -2.6237      0.029    -89.727      0.000      -2.681      -2.566\n",
      "x9          -2.56e-06   3.22e-08    -79.589      0.000   -2.62e-06    -2.5e-06\n",
      "==============================================================================\n",
      "['health', 'price', 'user_visits', 'domain_cluster', 'seller_reputation_level_5', 'diff_stop_start_time', 'power_seller_status_enc', 'buying_mode_now', 'health_price_inter']\n"
     ]
    },
    {
     "data": {
      "text/plain": [
       "(None, None)"
      ]
     },
     "execution_count": 55,
     "metadata": {},
     "output_type": "execute_result"
    }
   ],
   "source": [
    "po_results_trun = sm.GLM(y_train_rl, X_train_rl, family=sm.families.Poisson()).fit()\n",
    "print(po_results_trun.summary()), print(df_rl.drop('sold_quantity', axis=1).columns.tolist())"
   ]
  },
  {
   "cell_type": "markdown",
   "metadata": {},
   "source": [
    "### Ahora hemos podado las variables y vemos que se clarifican los coeficientes, y el error estándar ha mejorado , por lo tanto mejoro la estimación. \n",
    "### Algunas cosas a decir al respecto: La variable generada diff_stop_start_time , no parece tener importancia en la predicción del target según este modelo. Por otro lado, parece tener importancia el precio, y buying_mode, ambas con std err bajo. Luego seller_reputation_level_5 tambien parece ser relevante. \n",
    "### Con eso podriamos confirmar que los vendedores de buena reputación crecen positivamente casi dos unidades logarítmicas de la cantidad vendida."
   ]
  },
  {
   "cell_type": "code",
   "execution_count": 46,
   "metadata": {},
   "outputs": [],
   "source": [
    "metrics = {\n",
    "    'mse': mean_squared_error,\n",
    "    'r2': r2_score\n",
    "}"
   ]
  },
  {
   "cell_type": "code",
   "execution_count": 111,
   "metadata": {},
   "outputs": [],
   "source": [
    "test_results_d = {}"
   ]
  },
  {
   "cell_type": "code",
   "execution_count": 56,
   "metadata": {},
   "outputs": [
    {
     "name": "stderr",
     "output_type": "stream",
     "text": [
      "/home/ramon/.local/lib/python3.6/site-packages/statsmodels/genmod/families/links.py:517: RuntimeWarning: overflow encountered in exp\n",
      "  return np.exp(z)\n",
      "/home/ramon/.local/lib/python3.6/site-packages/statsmodels/genmod/families/family.py:428: RuntimeWarning: invalid value encountered in true_divide\n",
      "  endog_mu = self._clean(endog / mu)\n",
      "/home/ramon/.local/lib/python3.6/site-packages/statsmodels/genmod/families/family.py:134: RuntimeWarning: invalid value encountered in multiply\n",
      "  return 1. / (self.link.deriv(mu)**2 * self.variance(mu))\n",
      "/home/ramon/.local/lib/python3.6/site-packages/statsmodels/genmod/families/family.py:134: RuntimeWarning: divide by zero encountered in true_divide\n",
      "  return 1. / (self.link.deriv(mu)**2 * self.variance(mu))\n",
      "/home/ramon/.local/lib/python3.6/site-packages/statsmodels/genmod/generalized_linear_model.py:1199: RuntimeWarning: invalid value encountered in multiply\n",
      "  - self._offset_exposure)\n",
      "/home/ramon/.local/lib/python3.6/site-packages/statsmodels/genmod/families/family.py:428: RuntimeWarning: divide by zero encountered in true_divide\n",
      "  endog_mu = self._clean(endog / mu)\n",
      "/home/ramon/.local/lib/python3.6/site-packages/statsmodels/genmod/families/family.py:428: RuntimeWarning: overflow encountered in true_divide\n",
      "  endog_mu = self._clean(endog / mu)\n",
      "/home/ramon/.local/lib/python3.6/site-packages/statsmodels/genmod/families/family.py:430: RuntimeWarning: overflow encountered in multiply\n",
      "  return 2 * resid_dev\n"
     ]
    },
    {
     "name": "stdout",
     "output_type": "stream",
     "text": [
      "0\n",
      "1\n"
     ]
    },
    {
     "name": "stderr",
     "output_type": "stream",
     "text": [
      "/home/ramon/.local/lib/python3.6/site-packages/statsmodels/genmod/families/links.py:517: RuntimeWarning: overflow encountered in exp\n",
      "  return np.exp(z)\n",
      "/home/ramon/.local/lib/python3.6/site-packages/statsmodels/genmod/families/family.py:428: RuntimeWarning: invalid value encountered in true_divide\n",
      "  endog_mu = self._clean(endog / mu)\n",
      "/home/ramon/.local/lib/python3.6/site-packages/statsmodels/genmod/families/family.py:134: RuntimeWarning: invalid value encountered in multiply\n",
      "  return 1. / (self.link.deriv(mu)**2 * self.variance(mu))\n",
      "/home/ramon/.local/lib/python3.6/site-packages/statsmodels/genmod/families/family.py:134: RuntimeWarning: divide by zero encountered in true_divide\n",
      "  return 1. / (self.link.deriv(mu)**2 * self.variance(mu))\n",
      "/home/ramon/.local/lib/python3.6/site-packages/statsmodels/genmod/generalized_linear_model.py:1199: RuntimeWarning: invalid value encountered in multiply\n",
      "  - self._offset_exposure)\n",
      "/home/ramon/.local/lib/python3.6/site-packages/statsmodels/genmod/families/family.py:430: RuntimeWarning: overflow encountered in multiply\n",
      "  return 2 * resid_dev\n",
      "/home/ramon/.local/lib/python3.6/site-packages/statsmodels/genmod/families/family.py:428: RuntimeWarning: divide by zero encountered in true_divide\n",
      "  endog_mu = self._clean(endog / mu)\n"
     ]
    },
    {
     "name": "stdout",
     "output_type": "stream",
     "text": [
      "3\n",
      "4\n",
      "5\n"
     ]
    }
   ],
   "source": [
    "sm_metrics = pd.DataFrame()\n",
    "sm_results_stored = {}\n",
    "\n",
    "\n",
    "kf = KFold(n_splits=8)\n",
    "\n",
    "for i, (train_index, test_index) in enumerate(kf.split(X_train_rl)):\n",
    "    X_train_cv, X_val = X_train_rl[train_index], X_train_rl[test_index]\n",
    "    y_train_cv, y_val = y_train_rl[train_index], y_train_rl[test_index]\n",
    "\n",
    "    sm_results_stored[i] = {} \n",
    "    try:\n",
    "        po_results = sm.GLM(y_train_cv, X_train_cv, family=sm.families.Poisson()).fit()\n",
    "        y_pred = po_results.predict(X_val)\n",
    "    except:\n",
    "        print(i)\n",
    "        continue\n",
    "    \n",
    "    sm_results_stored[i]['y_test'] = [y_val]\n",
    "    sm_results_stored[i]['y_pred'] = [y_pred]\n",
    "    for metric in metrics:\n",
    "        sm_metrics.loc[i, metric] = metrics[metric](y_val, y_pred)\n",
    "\n"
   ]
  },
  {
   "cell_type": "code",
   "execution_count": 57,
   "metadata": {},
   "outputs": [
    {
     "data": {
      "text/html": [
       "<div>\n",
       "<style scoped>\n",
       "    .dataframe tbody tr th:only-of-type {\n",
       "        vertical-align: middle;\n",
       "    }\n",
       "\n",
       "    .dataframe tbody tr th {\n",
       "        vertical-align: top;\n",
       "    }\n",
       "\n",
       "    .dataframe thead th {\n",
       "        text-align: right;\n",
       "    }\n",
       "</style>\n",
       "<table border=\"1\" class=\"dataframe\">\n",
       "  <thead>\n",
       "    <tr style=\"text-align: right;\">\n",
       "      <th></th>\n",
       "      <th>mse</th>\n",
       "      <th>r2</th>\n",
       "    </tr>\n",
       "  </thead>\n",
       "  <tbody>\n",
       "    <tr>\n",
       "      <th>2</th>\n",
       "      <td>58905.941350</td>\n",
       "      <td>-0.036769</td>\n",
       "    </tr>\n",
       "    <tr>\n",
       "      <th>6</th>\n",
       "      <td>114525.046488</td>\n",
       "      <td>-0.784802</td>\n",
       "    </tr>\n",
       "    <tr>\n",
       "      <th>7</th>\n",
       "      <td>38818.068489</td>\n",
       "      <td>0.044089</td>\n",
       "    </tr>\n",
       "  </tbody>\n",
       "</table>\n",
       "</div>"
      ],
      "text/plain": [
       "             mse        r2\n",
       "2   58905.941350 -0.036769\n",
       "6  114525.046488 -0.784802\n",
       "7   38818.068489  0.044089"
      ]
     },
     "execution_count": 57,
     "metadata": {},
     "output_type": "execute_result"
    }
   ],
   "source": [
    "sm_metrics"
   ]
  },
  {
   "cell_type": "code",
   "execution_count": null,
   "metadata": {},
   "outputs": [],
   "source": []
  },
  {
   "cell_type": "markdown",
   "metadata": {},
   "source": [
    "### Luego de entrenar por CV, podemos ver que el el modelo es inestable y performa de modo deficiente. Tal es asi que algunas iteraciones del proceso de Cross Validation, no llega a evaluar los coeficientes. \n"
   ]
  },
  {
   "cell_type": "markdown",
   "metadata": {},
   "source": [
    "## Modelo 2. Ensamble de arboles de desición Natural Gradient Boosting Trees"
   ]
  },
  {
   "cell_type": "code",
   "execution_count": 12,
   "metadata": {},
   "outputs": [],
   "source": [
    "from ngboost import NGBRegressor\n",
    "from ngboost.distns import Poisson"
   ]
  },
  {
   "cell_type": "code",
   "execution_count": 13,
   "metadata": {
    "scrolled": true
   },
   "outputs": [
    {
     "name": "stdout",
     "output_type": "stream",
     "text": [
      "[iter 0] loss=79.2402 val_loss=0.0000 scale=0.0312 norm=0.0458\n",
      "[iter 100] loss=48.0928 val_loss=0.0000 scale=0.2500 norm=0.2472\n",
      "[iter 200] loss=26.6599 val_loss=0.0000 scale=2.0000 norm=1.6002\n",
      "[iter 300] loss=21.9900 val_loss=0.0000 scale=1.0000 norm=0.7068\n",
      "[iter 400] loss=20.6025 val_loss=0.0000 scale=1.0000 norm=0.7009\n"
     ]
    }
   ],
   "source": [
    "ngb = NGBRegressor(Dist=Poisson).fit(X_train, y_train)\n",
    "Y_preds = ngb.predict(X_test)\n",
    "Y_dists = ngb.pred_dist(X_test)"
   ]
  },
  {
   "cell_type": "markdown",
   "metadata": {},
   "source": [
    "### Antes de seguir con la estimación de la performance, miremos un poco el valioso output de _feature_importance_ a ver qué variables considera importantes este modelo"
   ]
  },
  {
   "cell_type": "code",
   "execution_count": 15,
   "metadata": {},
   "outputs": [],
   "source": [
    "feature_importance_loc = ngb.feature_importances_[0]"
   ]
  },
  {
   "cell_type": "code",
   "execution_count": 35,
   "metadata": {},
   "outputs": [
    {
     "data": {
      "text/plain": [
       "Text(0.5, 1.0, 'loc param')"
      ]
     },
     "execution_count": 35,
     "metadata": {},
     "output_type": "execute_result"
    },
    {
     "data": {
      "image/png": "[encoded data removed]",
      "text/plain": [
       "<Figure size 842.4x595.44 with 1 Axes>"
      ]
     },
     "metadata": {},
     "output_type": "display_data"
    }
   ],
   "source": [
    "colist = df.columns.tolist()\n",
    "colist.remove('sold_quantity')\n",
    "df_loc = (pd.DataFrame({'feature':colist, \n",
    "                       'importance':feature_importance_loc})\n",
    "          .sort_values('importance',ascending=False))\n",
    "\n",
    "sns.set(rc={'figure.figsize':(11.7,8.27)})\n",
    "sns.barplot(x='importance',y='feature',data=df_loc, color=\"skyblue\").set_title('loc param')\n",
    "\n"
   ]
  },
  {
   "cell_type": "markdown",
   "metadata": {},
   "source": [
    "### Vemos que considera muy pocas, y de entre ellas, por lejos initial quantity sobresale primera, luego en mucho menor medida le sigue available quantity. Puede parecer una obviedad, pero tiene sentido que dichos datos sean buenos predictores, ya que aunque correlacionadas positivamente entre si(como hemos visto en EDA), dan un marco claro y directo en que la posible cantidad vendida varie. "
   ]
  },
  {
   "cell_type": "markdown",
   "metadata": {},
   "source": [
    "### Procedamos al CV"
   ]
  },
  {
   "cell_type": "code",
   "execution_count": 48,
   "metadata": {
    "scrolled": true
   },
   "outputs": [
    {
     "name": "stdout",
     "output_type": "stream",
     "text": [
      "0\n",
      "[iter 0] loss=80.8630 val_loss=0.0000 scale=0.0312 norm=0.0460\n",
      "[iter 100] loss=49.2134 val_loss=0.0000 scale=1.0000 norm=0.9928\n",
      "[iter 200] loss=27.2921 val_loss=0.0000 scale=2.0000 norm=1.6077\n",
      "[iter 300] loss=22.4033 val_loss=0.0000 scale=1.0000 norm=0.7079\n",
      "[iter 400] loss=20.8620 val_loss=0.0000 scale=2.0000 norm=1.4088\n",
      "1\n",
      "[iter 0] loss=77.3800 val_loss=0.0000 scale=0.0312 norm=0.0457\n",
      "[iter 100] loss=45.2510 val_loss=0.0000 scale=0.2500 norm=0.2433\n",
      "[iter 200] loss=24.8632 val_loss=0.0000 scale=2.0000 norm=1.5784\n",
      "[iter 300] loss=21.0777 val_loss=0.0000 scale=2.0000 norm=1.4054\n",
      "[iter 400] loss=19.6233 val_loss=0.0000 scale=1.0000 norm=0.7033\n",
      "2\n",
      "[iter 0] loss=76.6015 val_loss=0.0000 scale=0.0625 norm=0.0915\n",
      "[iter 100] loss=47.8561 val_loss=0.0000 scale=1.0000 norm=1.0032\n",
      "[iter 200] loss=26.2290 val_loss=0.0000 scale=1.0000 norm=0.8068\n",
      "[iter 300] loss=21.1872 val_loss=0.0000 scale=2.0000 norm=1.4204\n",
      "[iter 400] loss=19.8199 val_loss=0.0000 scale=1.0000 norm=0.7024\n",
      "3\n",
      "[iter 0] loss=80.9640 val_loss=0.0000 scale=0.0312 norm=0.0458\n",
      "[iter 100] loss=50.0149 val_loss=0.0000 scale=1.0000 norm=0.9990\n",
      "[iter 200] loss=26.6963 val_loss=0.0000 scale=2.0000 norm=1.5913\n",
      "[iter 300] loss=22.3426 val_loss=0.0000 scale=2.0000 norm=1.4143\n",
      "[iter 400] loss=20.9678 val_loss=0.0000 scale=1.0000 norm=0.6975\n",
      "4\n",
      "[iter 0] loss=80.9575 val_loss=0.0000 scale=0.0312 norm=0.0458\n",
      "[iter 100] loss=50.7246 val_loss=0.0000 scale=0.2500 norm=0.2514\n",
      "[iter 200] loss=28.0937 val_loss=0.0000 scale=2.0000 norm=1.6221\n",
      "[iter 300] loss=22.2374 val_loss=0.0000 scale=0.5000 norm=0.3552\n",
      "[iter 400] loss=20.6551 val_loss=0.0000 scale=0.5000 norm=0.3516\n",
      "5\n",
      "[iter 0] loss=82.5366 val_loss=0.0000 scale=0.0312 norm=0.0458\n",
      "[iter 100] loss=50.6393 val_loss=0.0000 scale=1.0000 norm=0.9952\n",
      "[iter 200] loss=27.9022 val_loss=0.0000 scale=2.0000 norm=1.6042\n",
      "[iter 300] loss=22.5470 val_loss=0.0000 scale=2.0000 norm=1.4093\n",
      "[iter 400] loss=21.0859 val_loss=0.0000 scale=1.0000 norm=0.6995\n",
      "6\n",
      "[iter 0] loss=75.7297 val_loss=0.0000 scale=0.0312 norm=0.0458\n",
      "[iter 100] loss=46.6301 val_loss=0.0000 scale=1.0000 norm=0.9966\n",
      "[iter 200] loss=24.4660 val_loss=0.0000 scale=2.0000 norm=1.5815\n",
      "[iter 300] loss=20.6717 val_loss=0.0000 scale=2.0000 norm=1.4025\n",
      "[iter 400] loss=19.3008 val_loss=0.0000 scale=1.0000 norm=0.7012\n",
      "7\n",
      "[iter 0] loss=78.8294 val_loss=0.0000 scale=0.0312 norm=0.0457\n",
      "[iter 100] loss=50.0237 val_loss=0.0000 scale=1.0000 norm=1.0140\n",
      "[iter 200] loss=26.6882 val_loss=0.0000 scale=2.0000 norm=1.6123\n",
      "[iter 300] loss=21.3368 val_loss=0.0000 scale=2.0000 norm=1.4192\n",
      "[iter 400] loss=19.7511 val_loss=0.0000 scale=2.0000 norm=1.3971\n"
     ]
    }
   ],
   "source": [
    "ngboost_metrics = pd.DataFrame()\n",
    "ngboost_results_stored = {}\n",
    "\n",
    "\n",
    "kf = KFold(n_splits=8)\n",
    "\n",
    "for i, (train_index, test_index) in enumerate(kf.split(X_train)):\n",
    "    print(i)\n",
    "    X_train_cv, X_val = X_train[train_index], X_train[test_index]\n",
    "    y_train_cv, y_val = y_train[train_index], y_train[test_index]\n",
    "\n",
    "    ngboost_results_stored[i] = {} \n",
    "\n",
    "    ngb = NGBRegressor(Dist=Poisson).fit(X_train_cv, y_train_cv)\n",
    "    y_pred_ngb_cv = ngb.predict(X_val)\n",
    "\n",
    "    \n",
    "    ngboost_results_stored[i]['y_test'] = [y_val]\n",
    "    ngboost_results_stored[i]['y_pred'] = [y_pred_ngb_cv]\n",
    "    for metric in metrics:\n",
    "        ngboost_metrics.loc[i, metric] = metrics[metric](y_val, y_pred_ngb_cv)\n"
   ]
  },
  {
   "cell_type": "markdown",
   "metadata": {},
   "source": [
    "### Test Held Out"
   ]
  },
  {
   "cell_type": "markdown",
   "metadata": {},
   "source": [
    "### Regresion GLM Poisson"
   ]
  },
  {
   "cell_type": "code",
   "execution_count": 66,
   "metadata": {
    "scrolled": true
   },
   "outputs": [
    {
     "name": "stdout",
     "output_type": "stream",
     "text": [
      "mse in Poisson Regression Test 36158.57379291759\n",
      "r2 in Poisson Regression Test 0.040934715432105695\n"
     ]
    }
   ],
   "source": [
    "\n",
    "\n",
    "y_pred_ho = po_results_trun.predict(X_test_rl)\n",
    "\n",
    "\n",
    "for metric in metrics:\n",
    "    print(f\"{metric} in Poisson Regression Test {metrics[metric](y_test_rl, y_pred_ho)}\")"
   ]
  },
  {
   "cell_type": "markdown",
   "metadata": {},
   "source": [
    "### NGBoost"
   ]
  },
  {
   "cell_type": "code",
   "execution_count": 65,
   "metadata": {},
   "outputs": [
    {
     "name": "stdout",
     "output_type": "stream",
     "text": [
      "[iter 0] loss=79.2402 val_loss=0.0000 scale=0.0312 norm=0.0458\n",
      "[iter 100] loss=48.0928 val_loss=0.0000 scale=0.2500 norm=0.2472\n",
      "[iter 200] loss=26.6599 val_loss=0.0000 scale=2.0000 norm=1.6002\n",
      "[iter 300] loss=21.9900 val_loss=0.0000 scale=1.0000 norm=0.7068\n",
      "[iter 400] loss=20.6025 val_loss=0.0000 scale=1.0000 norm=0.7009\n",
      "mse in NGBoost Test 26452.45770383828\n",
      "r2 in NGBoost Test 0.29837846977744953\n"
     ]
    }
   ],
   "source": [
    "\n",
    "ngb = NGBRegressor(Dist=Poisson).fit(X_train, y_train)\n",
    "y_pred_ngb_test = ngb.predict(X_test)\n",
    "\n",
    "\n",
    "for metric in metrics:\n",
    "    print(f\"{metric} in NGBoost Test {metrics[metric](y_test, y_pred_ngb_test)}\")"
   ]
  },
  {
   "cell_type": "markdown",
   "metadata": {},
   "source": [
    "## Evaluación y Conclusión"
   ]
  },
  {
   "cell_type": "code",
   "execution_count": 59,
   "metadata": {},
   "outputs": [
    {
     "data": {
      "image/png": "[encoded data removed]",
      "text/plain": [
       "<Figure size 201.6x288 with 1 Axes>"
      ]
     },
     "metadata": {},
     "output_type": "display_data"
    }
   ],
   "source": [
    "g = sns.catplot(x=\"r2\",\n",
    "                data=sm_metrics, kind=\"box\",\n",
    "                height=4, aspect=.7)"
   ]
  },
  {
   "cell_type": "code",
   "execution_count": 60,
   "metadata": {},
   "outputs": [
    {
     "data": {
      "image/png": "[encoded data removed]",
      "text/plain": [
       "<Figure size 201.6x288 with 1 Axes>"
      ]
     },
     "metadata": {},
     "output_type": "display_data"
    }
   ],
   "source": [
    "g = sns.catplot(x=\"r2\",\n",
    "                data=ngboost_metrics, kind=\"box\",\n",
    "                height=4, aspect=.7)"
   ]
  },
  {
   "cell_type": "markdown",
   "metadata": {},
   "source": [
    "### Terminado el entrenamiento, vemos que los modelos ambos han performado mal en terminos de error sobre lo predicho. Las métricas no arrojan buenos resultados, aunque mejor el ensamble de árboles: mirando la metrica r2, donde 1 es la mejor performance, el mejor, no pasa del 0,2. \n",
    "### Los gráficos de caja muestran ademas gran variabilidad en los resultados, dando cuenta dela intestabilidad de los mismos.\n",
    "### Quedan muchas cosas por hacer fuera del alcance de este trabajo:\n",
    "* Un mas profundo feature engineering en base a procesamiento de imágenes de los productos y vendedor, con redes profundas, para tener un feature según un clasificador\n",
    "* Un procesamiento del lenguage expresado en las preguntas y descripción del producto, para poder extraer los conceptos y la red de los mismos.\n",
    "* Un ranking de ciudades segun si conexion con los hubs. \n",
    "* Una optimización de los parametros del NGBoost, posiblemente con optimización bayesiana o algoritmo genetico\n",
    "* Entrenar una red profunda regresora, como un último modelo en direccion a lo no-lineal, siguiendo el camino que comenzamos"
   ]
  }
 ],
 "metadata": {
  "kernelspec": {
   "display_name": "Python 3",
   "language": "python",
   "name": "python3"
  },
  "language_info": {
   "codemirror_mode": {
    "name": "ipython",
    "version": 3
   },
   "file_extension": ".py",
   "mimetype": "text/x-python",
   "name": "python",
   "nbconvert_exporter": "python",
   "pygments_lexer": "ipython3",
   "version": "3.6.9"
  }
 },
 "nbformat": 4,
 "nbformat_minor": 4
}
